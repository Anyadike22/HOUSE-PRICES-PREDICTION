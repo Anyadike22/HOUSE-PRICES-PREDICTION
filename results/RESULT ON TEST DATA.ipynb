{
 "cells": [
  {
   "cell_type": "code",
   "execution_count": 37,
   "id": "7f69d24c",
   "metadata": {},
   "outputs": [],
   "source": [
    "# TEST THE MODEL WITH UNSEEN DATE\n"
   ]
  },
  {
   "cell_type": "code",
   "execution_count": 43,
   "id": "1b660837",
   "metadata": {},
   "outputs": [],
   "source": [
    "# Use the trained model to predict on the test features\n",
    "y_pred = model.predict(X_test)\n"
   ]
  },
  {
   "cell_type": "code",
   "execution_count": 45,
   "id": "7b0a9c2a",
   "metadata": {},
   "outputs": [
    {
     "name": "stdout",
     "output_type": "stream",
     "text": [
      "Model Score on Test Data: 0.6769846069048151\n"
     ]
    }
   ],
   "source": [
    " #Get the score for the test data\n",
    "score = model.score(X_test, y_test)\n",
    "print(f\"Model Score on Test Data: {score}\")"
   ]
  },
  {
   "cell_type": "code",
   "execution_count": null,
   "id": "985ad38b",
   "metadata": {},
   "outputs": [],
   "source": []
  }
 ],
 "metadata": {
  "kernelspec": {
   "display_name": "Python 3 (ipykernel)",
   "language": "python",
   "name": "python3"
  },
  "language_info": {
   "codemirror_mode": {
    "name": "ipython",
    "version": 3
   },
   "file_extension": ".py",
   "mimetype": "text/x-python",
   "name": "python",
   "nbconvert_exporter": "python",
   "pygments_lexer": "ipython3",
   "version": "3.11.5"
  }
 },
 "nbformat": 4,
 "nbformat_minor": 5
}
